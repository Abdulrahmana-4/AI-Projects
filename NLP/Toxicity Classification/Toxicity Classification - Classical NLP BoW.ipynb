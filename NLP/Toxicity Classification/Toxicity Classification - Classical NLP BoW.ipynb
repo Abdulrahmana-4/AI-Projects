{
 "cells": [
  {
   "cell_type": "markdown",
   "metadata": {},
   "source": [
    "### Toxicity Classification - Classical NLP (BoW)"
   ]
  },
  {
   "cell_type": "markdown",
   "metadata": {},
   "source": [
    "Dataset link: https://www.kaggle.com/competitions/jigsaw-unintended-bias-in-toxicity-classification"
   ]
  },
  {
   "cell_type": "code",
   "execution_count": 1,
   "metadata": {
    "execution": {
     "iopub.execute_input": "2025-10-29T22:00:50.699596Z",
     "iopub.status.busy": "2025-10-29T22:00:50.699381Z",
     "iopub.status.idle": "2025-10-29T22:01:05.263272Z",
     "shell.execute_reply": "2025-10-29T22:01:05.262453Z",
     "shell.execute_reply.started": "2025-10-29T22:00:50.699577Z"
    },
    "id": "oKvbJbRW4ouB",
    "trusted": true
   },
   "outputs": [
    {
     "name": "stderr",
     "output_type": "stream",
     "text": [
      "2025-10-29 22:00:52.177610: E external/local_xla/xla/stream_executor/cuda/cuda_fft.cc:477] Unable to register cuFFT factory: Attempting to register factory for plugin cuFFT when one has already been registered\n",
      "WARNING: All log messages before absl::InitializeLog() is called are written to STDERR\n",
      "E0000 00:00:1761775252.385108      37 cuda_dnn.cc:8310] Unable to register cuDNN factory: Attempting to register factory for plugin cuDNN when one has already been registered\n",
      "E0000 00:00:1761775252.437601      37 cuda_blas.cc:1418] Unable to register cuBLAS factory: Attempting to register factory for plugin cuBLAS when one has already been registered\n",
      "[nltk_data] Downloading package punkt_tab to /usr/share/nltk_data...\n",
      "[nltk_data]   Package punkt_tab is already up-to-date!\n",
      "[nltk_data] Downloading package stopwords to /usr/share/nltk_data...\n",
      "[nltk_data]   Package stopwords is already up-to-date!\n",
      "[nltk_data] Downloading package wordnet to /usr/share/nltk_data...\n",
      "[nltk_data]   Package wordnet is already up-to-date!\n"
     ]
    }
   ],
   "source": [
    "from tensorflow.keras.preprocessing.text import text_to_word_sequence\n",
    "from tensorflow.keras.preprocessing.text import Tokenizer\n",
    "from tensorflow.keras.preprocessing.sequence import pad_sequences\n",
    "from tensorflow.keras import models\n",
    "from tensorflow.keras import layers\n",
    "from tensorflow.keras import losses\n",
    "from tensorflow.keras import metrics\n",
    "from tensorflow.keras import optimizers\n",
    "from tensorflow.keras.utils import plot_model\n",
    "\n",
    "import numpy as np\n",
    "import matplotlib.pyplot as plt\n",
    "\n",
    "from sklearn.feature_extraction.text import CountVectorizer\n",
    "from sklearn.feature_extraction.text import TfidfVectorizer\n",
    "from sklearn.model_selection import train_test_split\n",
    "\n",
    "from collections import Counter\n",
    "from pathlib import Path\n",
    "import os\n",
    "import pandas as pd\n",
    "import re\n",
    "import string\n",
    "import nltk\n",
    "nltk.download('punkt_tab')\n",
    "from nltk.tokenize import word_tokenize\n",
    "from nltk.corpus import stopwords\n",
    "nltk.download('stopwords')\n",
    "from nltk.stem.porter import PorterStemmer\n",
    "from nltk.stem import WordNetLemmatizer\n",
    "nltk.download('wordnet')\n",
    "from nltk.corpus import wordnet\n",
    "import unicodedata\n",
    "import html\n",
    "stop_words = stopwords.words('english')"
   ]
  },
  {
   "cell_type": "code",
   "execution_count": null,
   "metadata": {
    "colab": {
     "base_uri": "https://localhost:8080/"
    },
    "id": "3jl9EubU2sHs",
    "outputId": "41ab7c97-0b0e-4bae-dca2-a57c95b7cc49"
   },
   "outputs": [
    {
     "name": "stdout",
     "output_type": "stream",
     "text": [
      "Downloading jigsaw-unintended-bias-in-toxicity-classification.zip to /content\n",
      " 93% 674M/723M [00:03<00:00, 53.6MB/s]\n",
      "100% 723M/723M [00:03<00:00, 197MB/s] \n",
      "Archive:  /content/jigsaw-unintended-bias-in-toxicity-classification.zip\n",
      "  inflating: jigsaw/all_data.csv     \n",
      "  inflating: jigsaw/identity_individual_annotations.csv  \n",
      "  inflating: jigsaw/sample_submission.csv  \n",
      "  inflating: jigsaw/test.csv         \n",
      "  inflating: jigsaw/test_private_expanded.csv  \n",
      "  inflating: jigsaw/test_public_expanded.csv  \n",
      "  inflating: jigsaw/toxicity_individual_annotations.csv  \n",
      "  inflating: jigsaw/train.csv        \n"
     ]
    }
   ],
   "source": [
    "!mkdir -p ~/.kaggle\n",
    "!cp kaggle.json ~/.kaggle/\n",
    "!chmod 600 ~/.kaggle/kaggle.json  # Secure the key\n",
    "!kaggle competitions download -c jigsaw-unintended-bias-in-toxicity-classification\n",
    "!unzip /content/jigsaw-unintended-bias-in-toxicity-classification.zip -d jigsaw\n",
    "!pip install mne einops scikit-learn --quiet"
   ]
  },
  {
   "cell_type": "code",
   "execution_count": 2,
   "metadata": {
    "execution": {
     "iopub.execute_input": "2025-10-29T22:01:36.886027Z",
     "iopub.status.busy": "2025-10-29T22:01:36.885471Z",
     "iopub.status.idle": "2025-10-29T22:01:59.107137Z",
     "shell.execute_reply": "2025-10-29T22:01:59.106288Z",
     "shell.execute_reply.started": "2025-10-29T22:01:36.886003Z"
    },
    "id": "x7pGH8tT2sHs",
    "trusted": true
   },
   "outputs": [],
   "source": [
    "train =pd.read_csv('/kaggle/input/jigsaw-unintended-bias-in-toxicity-classification/train.csv')\n",
    "# test = pd.read_csv('/content/jigsaw/test.csv')"
   ]
  },
  {
   "cell_type": "code",
   "execution_count": 3,
   "metadata": {
    "colab": {
     "base_uri": "https://localhost:8080/"
    },
    "execution": {
     "iopub.execute_input": "2025-10-29T22:02:06.481295Z",
     "iopub.status.busy": "2025-10-29T22:02:06.480928Z",
     "iopub.status.idle": "2025-10-29T22:02:06.693055Z",
     "shell.execute_reply": "2025-10-29T22:02:06.691885Z",
     "shell.execute_reply.started": "2025-10-29T22:02:06.481270Z"
    },
    "id": "UzP0PGa27tYf",
    "outputId": "4f990237-b831-4cf3-d9d4-b6757a9e0180",
    "trusted": true
   },
   "outputs": [
    {
     "name": "stdout",
     "output_type": "stream",
     "text": [
      "3\n"
     ]
    }
   ],
   "source": [
    "print(train['comment_text'].isna().sum())"
   ]
  },
  {
   "cell_type": "code",
   "execution_count": 4,
   "metadata": {
    "execution": {
     "iopub.execute_input": "2025-10-29T22:02:09.075531Z",
     "iopub.status.busy": "2025-10-29T22:02:09.075251Z",
     "iopub.status.idle": "2025-10-29T22:02:09.737410Z",
     "shell.execute_reply": "2025-10-29T22:02:09.736785Z",
     "shell.execute_reply.started": "2025-10-29T22:02:09.075508Z"
    },
    "id": "ZzuPf08c7gHb",
    "trusted": true
   },
   "outputs": [],
   "source": [
    "train = train.dropna(subset=['comment_text'])"
   ]
  },
  {
   "cell_type": "code",
   "execution_count": 5,
   "metadata": {
    "execution": {
     "iopub.execute_input": "2025-10-29T22:02:11.100522Z",
     "iopub.status.busy": "2025-10-29T22:02:11.099919Z",
     "iopub.status.idle": "2025-10-29T22:02:11.104241Z",
     "shell.execute_reply": "2025-10-29T22:02:11.103544Z",
     "shell.execute_reply.started": "2025-10-29T22:02:11.100497Z"
    },
    "id": "n4d2CI8k5H1V",
    "trusted": true
   },
   "outputs": [],
   "source": [
    "train_data, train_labels = train['comment_text'], train['target']\n",
    "# test_data = test['comment_text']"
   ]
  },
  {
   "cell_type": "code",
   "execution_count": 6,
   "metadata": {
    "colab": {
     "base_uri": "https://localhost:8080/"
    },
    "execution": {
     "iopub.execute_input": "2025-10-29T22:02:13.353760Z",
     "iopub.status.busy": "2025-10-29T22:02:13.353123Z",
     "iopub.status.idle": "2025-10-29T22:02:13.358399Z",
     "shell.execute_reply": "2025-10-29T22:02:13.357600Z",
     "shell.execute_reply.started": "2025-10-29T22:02:13.353732Z"
    },
    "id": "bDMkZCZU5tH-",
    "outputId": "c2611a5d-790a-4a0f-fe79-c0b968671e18",
    "trusted": true
   },
   "outputs": [
    {
     "name": "stdout",
     "output_type": "stream",
     "text": [
      "This is so cool. It's like, 'would you want your mother to read this??' Really great idea, well done!\n",
      "\n",
      "\n",
      "Thank you!! This would make my life a lot less anxiety-inducing. Keep it up, and don't let anyone get in your way!\n",
      "\n",
      "\n",
      "This is such an urgent design problem; kudos to you for taking it on. Very impressive!\n",
      "\n",
      "\n",
      "Is this something I'll be able to install on my site? When will you be releasing it?\n",
      "\n",
      "\n",
      "haha you guys are a bunch of losers.\n",
      "\n",
      "\n",
      "ur a sh*tty comment.\n",
      "\n",
      "\n",
      "hahahahahahahahhha suck it.\n",
      "\n",
      "\n",
      "FFFFUUUUUUUUUUUUUUU\n",
      "\n",
      "\n",
      "The ranchers seem motivated by mostly by greed; no one should have the right to allow their animals destroy public land.\n",
      "\n",
      "\n",
      "It was a great show. Not a combo I'd of expected to be good together but it was.\n",
      "\n",
      "\n"
     ]
    }
   ],
   "source": [
    "for text in train_data[:10]:\n",
    "  print(text)\n",
    "  print('\\n')"
   ]
  },
  {
   "cell_type": "code",
   "execution_count": 7,
   "metadata": {
    "execution": {
     "iopub.execute_input": "2025-10-29T22:02:15.676384Z",
     "iopub.status.busy": "2025-10-29T22:02:15.675704Z",
     "iopub.status.idle": "2025-10-29T22:02:15.685934Z",
     "shell.execute_reply": "2025-10-29T22:02:15.685189Z",
     "shell.execute_reply.started": "2025-10-29T22:02:15.676357Z"
    },
    "id": "e-IEE0e95SzR",
    "trusted": true
   },
   "outputs": [],
   "source": [
    "def remove_name_tag(sentence):\n",
    "    \"\"\"Remove name tags\"\"\"\n",
    "    pattern = r'@\\w+'\n",
    "    cleaned = re.sub(pattern, '', sentence)\n",
    "    return re.sub(r'\\s+', ' ', cleaned).strip()\n",
    "\n",
    "def remove_non_ascii(text):\n",
    "    \"\"\"Remove non-ASCII characters from list of tokenized words\"\"\"\n",
    "    return unicodedata.normalize('NFKD', text).encode('ascii', 'ignore').decode('utf-8', 'ignore')\n",
    "\n",
    "\n",
    "def to_lowercase(text):\n",
    "    return text.lower()\n",
    "\n",
    "\n",
    "\n",
    "def remove_punctuation(text):\n",
    "    \"\"\"Remove punctuation from list of tokenized words\"\"\"\n",
    "    translator = str.maketrans('', '', string.punctuation)\n",
    "    return text.translate(translator)\n",
    "\n",
    "\n",
    "def replace_numbers(text):\n",
    "    \"\"\"Replace all interger occurrences in list of tokenized words with textual representation\"\"\"\n",
    "    return re.sub(r'\\d+', '', text)\n",
    "\n",
    "\n",
    "def remove_whitespaces(text):\n",
    "    return text.strip()\n",
    "\n",
    "\n",
    "def remove_stopwords(words, stop_words):\n",
    "    \"\"\"Remove stop words\"\"\"\n",
    "    return [word for word in words if word not in stop_words]\n",
    "\n",
    "\n",
    "def stem_words(words):\n",
    "    \"\"\"Stem words in text\"\"\"\n",
    "    stemmer = PorterStemmer()\n",
    "    return [stemmer.stem(word) for word in words]\n",
    "\n",
    "def lemmatize_words(words):\n",
    "    \"\"\"Lemmatize words in text\"\"\"\n",
    "\n",
    "    lemmatizer = WordNetLemmatizer()\n",
    "    return [lemmatizer.lemmatize(word) for word in words]\n",
    "\n",
    "def lemmatize_verbs(words):\n",
    "    \"\"\"Lemmatize verbs in text\"\"\"\n",
    "\n",
    "    lemmatizer = WordNetLemmatizer()\n",
    "    return ' '.join([lemmatizer.lemmatize(word, pos='v') for word in words])\n",
    "\n",
    "def text2words(text):\n",
    "  return word_tokenize(text)\n",
    "\n",
    "def normalize_text( text):\n",
    "    text = remove_name_tag(text)\n",
    "    text = remove_non_ascii(text)\n",
    "    text = remove_punctuation(text)\n",
    "    text = to_lowercase(text)\n",
    "    text = replace_numbers(text)\n",
    "    words = text2words(text)\n",
    "    words = remove_stopwords(words, stop_words)\n",
    "    #words = stem_words(words)# Either stem ovocar lemmatize\n",
    "    words = lemmatize_words(words)\n",
    "    words = lemmatize_verbs(words)\n",
    "\n",
    "    return ''.join(words)\n",
    "\n",
    "def normalize_corpus(corpus):\n",
    "  return [normalize_text(t) for t in corpus]"
   ]
  },
  {
   "cell_type": "code",
   "execution_count": 8,
   "metadata": {
    "execution": {
     "iopub.execute_input": "2025-10-29T22:02:17.301663Z",
     "iopub.status.busy": "2025-10-29T22:02:17.301385Z",
     "iopub.status.idle": "2025-10-29T22:16:06.929248Z",
     "shell.execute_reply": "2025-10-29T22:16:06.928594Z",
     "shell.execute_reply.started": "2025-10-29T22:02:17.301642Z"
    },
    "id": "0DNUZH1O5g_7",
    "trusted": true
   },
   "outputs": [],
   "source": [
    "train_data = normalize_corpus(train_data.values)\n",
    "# test_data = normalize_corpus(test_data.values)"
   ]
  },
  {
   "cell_type": "code",
   "execution_count": 9,
   "metadata": {
    "execution": {
     "iopub.execute_input": "2025-10-29T22:16:06.930472Z",
     "iopub.status.busy": "2025-10-29T22:16:06.930258Z",
     "iopub.status.idle": "2025-10-29T22:16:06.960506Z",
     "shell.execute_reply": "2025-10-29T22:16:06.959923Z",
     "shell.execute_reply.started": "2025-10-29T22:16:06.930455Z"
    },
    "id": "7wVJoQDq7HOM",
    "trusted": true
   },
   "outputs": [],
   "source": [
    "train_texts = train_data.copy()\n",
    "# test_texts  = test_data.copy()"
   ]
  },
  {
   "cell_type": "markdown",
   "metadata": {
    "id": "F9erE0sj83Xh"
   },
   "source": [
    "Keras Tokenization but using"
   ]
  },
  {
   "cell_type": "code",
   "execution_count": 10,
   "metadata": {
    "colab": {
     "base_uri": "https://localhost:8080/"
    },
    "execution": {
     "iopub.execute_input": "2025-10-29T22:16:06.961326Z",
     "iopub.status.busy": "2025-10-29T22:16:06.961108Z",
     "iopub.status.idle": "2025-10-29T22:19:33.058578Z",
     "shell.execute_reply": "2025-10-29T22:19:33.057775Z",
     "shell.execute_reply.started": "2025-10-29T22:16:06.961311Z"
    },
    "id": "xWIaCYK_6vAk",
    "outputId": "05457c81-6fcb-4590-d809-104196eb3fe4",
    "trusted": true
   },
   "outputs": [
    {
     "name": "stdout",
     "output_type": "stream",
     "text": [
      "[('UNK', 1), ('get', 2), ('people', 3), ('would', 4), ('one', 5), ('like', 6), ('go', 7), ('make', 8), ('trump', 9), ('say', 10)]\n"
     ]
    }
   ],
   "source": [
    "tokens = [token for text in train_texts for token in word_tokenize(text)]\n",
    "# Count frequencies\n",
    "word_counts = Counter(tokens)\n",
    "# Sort by frequency (optional, like Keras)\n",
    "sorted_words = [w for w, _ in word_counts.most_common()]\n",
    "# Create word_index starting with 'UNK'\n",
    "word_index = {'UNK': 1}\n",
    "for i, w in enumerate(sorted_words, start=2):\n",
    "    word_index[w] = i\n",
    "print(list(word_index.items())[:10])"
   ]
  },
  {
   "cell_type": "code",
   "execution_count": 11,
   "metadata": {
    "execution": {
     "iopub.execute_input": "2025-10-29T22:19:33.060567Z",
     "iopub.status.busy": "2025-10-29T22:19:33.060342Z",
     "iopub.status.idle": "2025-10-29T22:20:44.484290Z",
     "shell.execute_reply": "2025-10-29T22:20:44.483667Z",
     "shell.execute_reply.started": "2025-10-29T22:19:33.060550Z"
    },
    "id": "ogLheGqf9JgH",
    "trusted": true
   },
   "outputs": [],
   "source": [
    "vectorizer = TfidfVectorizer()\n",
    "# tokenize and build vocab\n",
    "vectorizer.fit(train_texts) # + test_texts)\n",
    "\n",
    "x_train = vectorizer.transform(train_texts)\n",
    "# x_test =vectorizer.transform(test_texts)\n",
    "y_train = np.asarray(train_labels).astype('float32')"
   ]
  },
  {
   "cell_type": "code",
   "execution_count": 12,
   "metadata": {
    "colab": {
     "base_uri": "https://localhost:8080/"
    },
    "execution": {
     "iopub.execute_input": "2025-10-29T22:20:44.485176Z",
     "iopub.status.busy": "2025-10-29T22:20:44.484980Z",
     "iopub.status.idle": "2025-10-29T22:20:44.490560Z",
     "shell.execute_reply": "2025-10-29T22:20:44.489963Z",
     "shell.execute_reply.started": "2025-10-29T22:20:44.485161Z"
    },
    "id": "397VuRsWBZVS",
    "outputId": "4df1f742-a5fe-4913-958b-b332630af927",
    "trusted": true
   },
   "outputs": [
    {
     "data": {
      "text/plain": [
       "(1804871, 552114)"
      ]
     },
     "execution_count": 12,
     "metadata": {},
     "output_type": "execute_result"
    }
   ],
   "source": [
    "x_train.shape"
   ]
  },
  {
   "cell_type": "code",
   "execution_count": 13,
   "metadata": {
    "colab": {
     "base_uri": "https://localhost:8080/"
    },
    "execution": {
     "iopub.execute_input": "2025-10-29T22:20:44.491485Z",
     "iopub.status.busy": "2025-10-29T22:20:44.491200Z",
     "iopub.status.idle": "2025-10-29T22:20:44.503656Z",
     "shell.execute_reply": "2025-10-29T22:20:44.503132Z",
     "shell.execute_reply.started": "2025-10-29T22:20:44.491469Z"
    },
    "id": "3MNZmu4MKBtO",
    "outputId": "3824df79-2891-4c5d-fcc6-171d129771f8",
    "trusted": true
   },
   "outputs": [
    {
     "data": {
      "text/plain": [
       "552114"
      ]
     },
     "execution_count": 13,
     "metadata": {},
     "output_type": "execute_result"
    }
   ],
   "source": [
    "len(vectorizer.vocabulary_)"
   ]
  },
  {
   "cell_type": "code",
   "execution_count": 14,
   "metadata": {
    "execution": {
     "iopub.execute_input": "2025-10-29T22:20:44.504642Z",
     "iopub.status.busy": "2025-10-29T22:20:44.504412Z",
     "iopub.status.idle": "2025-10-29T22:20:44.521491Z",
     "shell.execute_reply": "2025-10-29T22:20:44.520790Z",
     "shell.execute_reply.started": "2025-10-29T22:20:44.504627Z"
    },
    "id": "p--Ar8fOGEUg",
    "trusted": true
   },
   "outputs": [],
   "source": [
    "y_train = np.where(y_train>=0.5,1.,0.)"
   ]
  },
  {
   "cell_type": "code",
   "execution_count": 15,
   "metadata": {
    "colab": {
     "base_uri": "https://localhost:8080/",
     "height": 280
    },
    "execution": {
     "iopub.execute_input": "2025-10-29T22:20:44.522536Z",
     "iopub.status.busy": "2025-10-29T22:20:44.522297Z",
     "iopub.status.idle": "2025-10-29T22:20:47.066871Z",
     "shell.execute_reply": "2025-10-29T22:20:47.066162Z",
     "shell.execute_reply.started": "2025-10-29T22:20:44.522520Z"
    },
    "id": "HCCCR7K4BepN",
    "outputId": "4ba1befd-032f-4089-e1ce-ea5b6105d4db",
    "trusted": true
   },
   "outputs": [
    {
     "name": "stderr",
     "output_type": "stream",
     "text": [
      "/usr/local/lib/python3.11/dist-packages/keras/src/layers/core/dense.py:87: UserWarning: Do not pass an `input_shape`/`input_dim` argument to a layer. When using Sequential models, prefer using an `Input(shape)` object as the first layer in the model instead.\n",
      "  super().__init__(activity_regularizer=activity_regularizer, **kwargs)\n",
      "I0000 00:00:1761776445.773464      37 gpu_device.cc:2022] Created device /job:localhost/replica:0/task:0/device:GPU:0 with 15513 MB memory:  -> device: 0, name: Tesla P100-PCIE-16GB, pci bus id: 0000:00:04.0, compute capability: 6.0\n"
     ]
    },
    {
     "data": {
      "text/html": [
       "<pre style=\"white-space:pre;overflow-x:auto;line-height:normal;font-family:Menlo,'DejaVu Sans Mono',consolas,'Courier New',monospace\"><span style=\"font-weight: bold\">Model: \"sequential\"</span>\n",
       "</pre>\n"
      ],
      "text/plain": [
       "\u001b[1mModel: \"sequential\"\u001b[0m\n"
      ]
     },
     "metadata": {},
     "output_type": "display_data"
    },
    {
     "data": {
      "text/html": [
       "<pre style=\"white-space:pre;overflow-x:auto;line-height:normal;font-family:Menlo,'DejaVu Sans Mono',consolas,'Courier New',monospace\">┏━━━━━━━━━━━━━━━━━━━━━━━━━━━━━━━━━┳━━━━━━━━━━━━━━━━━━━━━━━━┳━━━━━━━━━━━━━━━┓\n",
       "┃<span style=\"font-weight: bold\"> Layer (type)                    </span>┃<span style=\"font-weight: bold\"> Output Shape           </span>┃<span style=\"font-weight: bold\">       Param # </span>┃\n",
       "┡━━━━━━━━━━━━━━━━━━━━━━━━━━━━━━━━━╇━━━━━━━━━━━━━━━━━━━━━━━━╇━━━━━━━━━━━━━━━┩\n",
       "│ dense (<span style=\"color: #0087ff; text-decoration-color: #0087ff\">Dense</span>)                   │ (<span style=\"color: #00d7ff; text-decoration-color: #00d7ff\">None</span>, <span style=\"color: #00af00; text-decoration-color: #00af00\">16</span>)             │     <span style=\"color: #00af00; text-decoration-color: #00af00\">8,833,840</span> │\n",
       "├─────────────────────────────────┼────────────────────────┼───────────────┤\n",
       "│ dense_1 (<span style=\"color: #0087ff; text-decoration-color: #0087ff\">Dense</span>)                 │ (<span style=\"color: #00d7ff; text-decoration-color: #00d7ff\">None</span>, <span style=\"color: #00af00; text-decoration-color: #00af00\">16</span>)             │           <span style=\"color: #00af00; text-decoration-color: #00af00\">272</span> │\n",
       "├─────────────────────────────────┼────────────────────────┼───────────────┤\n",
       "│ dense_2 (<span style=\"color: #0087ff; text-decoration-color: #0087ff\">Dense</span>)                 │ (<span style=\"color: #00d7ff; text-decoration-color: #00d7ff\">None</span>, <span style=\"color: #00af00; text-decoration-color: #00af00\">1</span>)              │            <span style=\"color: #00af00; text-decoration-color: #00af00\">17</span> │\n",
       "└─────────────────────────────────┴────────────────────────┴───────────────┘\n",
       "</pre>\n"
      ],
      "text/plain": [
       "┏━━━━━━━━━━━━━━━━━━━━━━━━━━━━━━━━━┳━━━━━━━━━━━━━━━━━━━━━━━━┳━━━━━━━━━━━━━━━┓\n",
       "┃\u001b[1m \u001b[0m\u001b[1mLayer (type)                   \u001b[0m\u001b[1m \u001b[0m┃\u001b[1m \u001b[0m\u001b[1mOutput Shape          \u001b[0m\u001b[1m \u001b[0m┃\u001b[1m \u001b[0m\u001b[1m      Param #\u001b[0m\u001b[1m \u001b[0m┃\n",
       "┡━━━━━━━━━━━━━━━━━━━━━━━━━━━━━━━━━╇━━━━━━━━━━━━━━━━━━━━━━━━╇━━━━━━━━━━━━━━━┩\n",
       "│ dense (\u001b[38;5;33mDense\u001b[0m)                   │ (\u001b[38;5;45mNone\u001b[0m, \u001b[38;5;34m16\u001b[0m)             │     \u001b[38;5;34m8,833,840\u001b[0m │\n",
       "├─────────────────────────────────┼────────────────────────┼───────────────┤\n",
       "│ dense_1 (\u001b[38;5;33mDense\u001b[0m)                 │ (\u001b[38;5;45mNone\u001b[0m, \u001b[38;5;34m16\u001b[0m)             │           \u001b[38;5;34m272\u001b[0m │\n",
       "├─────────────────────────────────┼────────────────────────┼───────────────┤\n",
       "│ dense_2 (\u001b[38;5;33mDense\u001b[0m)                 │ (\u001b[38;5;45mNone\u001b[0m, \u001b[38;5;34m1\u001b[0m)              │            \u001b[38;5;34m17\u001b[0m │\n",
       "└─────────────────────────────────┴────────────────────────┴───────────────┘\n"
      ]
     },
     "metadata": {},
     "output_type": "display_data"
    },
    {
     "data": {
      "text/html": [
       "<pre style=\"white-space:pre;overflow-x:auto;line-height:normal;font-family:Menlo,'DejaVu Sans Mono',consolas,'Courier New',monospace\"><span style=\"font-weight: bold\"> Total params: </span><span style=\"color: #00af00; text-decoration-color: #00af00\">8,834,129</span> (33.70 MB)\n",
       "</pre>\n"
      ],
      "text/plain": [
       "\u001b[1m Total params: \u001b[0m\u001b[38;5;34m8,834,129\u001b[0m (33.70 MB)\n"
      ]
     },
     "metadata": {},
     "output_type": "display_data"
    },
    {
     "data": {
      "text/html": [
       "<pre style=\"white-space:pre;overflow-x:auto;line-height:normal;font-family:Menlo,'DejaVu Sans Mono',consolas,'Courier New',monospace\"><span style=\"font-weight: bold\"> Trainable params: </span><span style=\"color: #00af00; text-decoration-color: #00af00\">8,834,129</span> (33.70 MB)\n",
       "</pre>\n"
      ],
      "text/plain": [
       "\u001b[1m Trainable params: \u001b[0m\u001b[38;5;34m8,834,129\u001b[0m (33.70 MB)\n"
      ]
     },
     "metadata": {},
     "output_type": "display_data"
    },
    {
     "data": {
      "text/html": [
       "<pre style=\"white-space:pre;overflow-x:auto;line-height:normal;font-family:Menlo,'DejaVu Sans Mono',consolas,'Courier New',monospace\"><span style=\"font-weight: bold\"> Non-trainable params: </span><span style=\"color: #00af00; text-decoration-color: #00af00\">0</span> (0.00 B)\n",
       "</pre>\n"
      ],
      "text/plain": [
       "\u001b[1m Non-trainable params: \u001b[0m\u001b[38;5;34m0\u001b[0m (0.00 B)\n"
      ]
     },
     "metadata": {},
     "output_type": "display_data"
    }
   ],
   "source": [
    "x_train, x_val, y_train, y_val = train_test_split(x_train, y_train, test_size=0.5, random_state=42)\n",
    "\n",
    "model = models.Sequential()\n",
    "model.add(layers.Dense(16, activation='relu', input_shape=(len(vectorizer.vocabulary_),)))\n",
    "model.add(layers.Dense(16, activation='relu'))\n",
    "model.add(layers.Dense(1, activation='sigmoid'))\n",
    "model.summary()"
   ]
  },
  {
   "cell_type": "code",
   "execution_count": 16,
   "metadata": {
    "colab": {
     "base_uri": "https://localhost:8080/"
    },
    "execution": {
     "iopub.execute_input": "2025-10-29T22:20:47.068071Z",
     "iopub.status.busy": "2025-10-29T22:20:47.067713Z",
     "iopub.status.idle": "2025-10-29T22:57:04.092535Z",
     "shell.execute_reply": "2025-10-29T22:57:04.091898Z",
     "shell.execute_reply.started": "2025-10-29T22:20:47.068046Z"
    },
    "id": "MHkdsOGq6krJ",
    "outputId": "0c24644d-e6d4-4c3e-f503-88e1eaaf3e42",
    "trusted": true
   },
   "outputs": [
    {
     "name": "stdout",
     "output_type": "stream",
     "text": [
      "Epoch 1/20\n"
     ]
    },
    {
     "name": "stderr",
     "output_type": "stream",
     "text": [
      "WARNING: All log messages before absl::InitializeLog() is called are written to STDERR\n",
      "I0000 00:00:1761776450.274291     106 service.cc:148] XLA service 0x7a9098005ba0 initialized for platform CUDA (this does not guarantee that XLA will be used). Devices:\n",
      "I0000 00:00:1761776450.274818     106 service.cc:156]   StreamExecutor device (0): Tesla P100-PCIE-16GB, Compute Capability 6.0\n",
      "I0000 00:00:1761776450.471616     106 cuda_dnn.cc:529] Loaded cuDNN version 90300\n"
     ]
    },
    {
     "name": "stdout",
     "output_type": "stream",
     "text": [
      "\u001b[1m   1/1763\u001b[0m \u001b[37m━━━━━━━━━━━━━━━━━━━━\u001b[0m \u001b[1m1:39:08\u001b[0m 3s/step - binary_accuracy: 0.1406 - loss: 0.6935"
     ]
    },
    {
     "name": "stderr",
     "output_type": "stream",
     "text": [
      "I0000 00:00:1761776452.573880     106 device_compiler.h:188] Compiled cluster using XLA!  This line is logged at most once for the lifetime of the process.\n"
     ]
    },
    {
     "name": "stdout",
     "output_type": "stream",
     "text": [
      "\u001b[1m1763/1763\u001b[0m \u001b[32m━━━━━━━━━━━━━━━━━━━━\u001b[0m\u001b[37m\u001b[0m \u001b[1m765s\u001b[0m 432ms/step - binary_accuracy: 0.9199 - loss: 0.3115 - val_binary_accuracy: 0.9447 - val_loss: 0.1531\n",
      "Epoch 2/20\n",
      "\u001b[1m1763/1763\u001b[0m \u001b[32m━━━━━━━━━━━━━━━━━━━━\u001b[0m\u001b[37m\u001b[0m \u001b[1m236s\u001b[0m 134ms/step - binary_accuracy: 0.9464 - loss: 0.1480 - val_binary_accuracy: 0.9458 - val_loss: 0.1514\n",
      "Epoch 3/20\n",
      "\u001b[1m1763/1763\u001b[0m \u001b[32m━━━━━━━━━━━━━━━━━━━━\u001b[0m\u001b[37m\u001b[0m \u001b[1m161s\u001b[0m 92ms/step - binary_accuracy: 0.9479 - loss: 0.1432 - val_binary_accuracy: 0.9457 - val_loss: 0.1523\n",
      "Epoch 4/20\n",
      "\u001b[1m1763/1763\u001b[0m \u001b[32m━━━━━━━━━━━━━━━━━━━━\u001b[0m\u001b[37m\u001b[0m \u001b[1m96s\u001b[0m 54ms/step - binary_accuracy: 0.9484 - loss: 0.1415 - val_binary_accuracy: 0.9457 - val_loss: 0.1524\n",
      "Epoch 5/20\n",
      "\u001b[1m1763/1763\u001b[0m \u001b[32m━━━━━━━━━━━━━━━━━━━━\u001b[0m\u001b[37m\u001b[0m \u001b[1m95s\u001b[0m 54ms/step - binary_accuracy: 0.9490 - loss: 0.1400 - val_binary_accuracy: 0.9454 - val_loss: 0.1523\n",
      "Epoch 6/20\n",
      "\u001b[1m1763/1763\u001b[0m \u001b[32m━━━━━━━━━━━━━━━━━━━━\u001b[0m\u001b[37m\u001b[0m \u001b[1m75s\u001b[0m 42ms/step - binary_accuracy: 0.9495 - loss: 0.1379 - val_binary_accuracy: 0.9459 - val_loss: 0.1528\n",
      "Epoch 7/20\n",
      "\u001b[1m1763/1763\u001b[0m \u001b[32m━━━━━━━━━━━━━━━━━━━━\u001b[0m\u001b[37m\u001b[0m \u001b[1m70s\u001b[0m 40ms/step - binary_accuracy: 0.9506 - loss: 0.1351 - val_binary_accuracy: 0.9458 - val_loss: 0.1531\n",
      "Epoch 8/20\n",
      "\u001b[1m1763/1763\u001b[0m \u001b[32m━━━━━━━━━━━━━━━━━━━━\u001b[0m\u001b[37m\u001b[0m \u001b[1m60s\u001b[0m 34ms/step - binary_accuracy: 0.9508 - loss: 0.1336 - val_binary_accuracy: 0.9456 - val_loss: 0.1528\n",
      "Epoch 9/20\n",
      "\u001b[1m1763/1763\u001b[0m \u001b[32m━━━━━━━━━━━━━━━━━━━━\u001b[0m\u001b[37m\u001b[0m \u001b[1m60s\u001b[0m 34ms/step - binary_accuracy: 0.9519 - loss: 0.1305 - val_binary_accuracy: 0.9453 - val_loss: 0.1530\n",
      "Epoch 10/20\n",
      "\u001b[1m1763/1763\u001b[0m \u001b[32m━━━━━━━━━━━━━━━━━━━━\u001b[0m\u001b[37m\u001b[0m \u001b[1m59s\u001b[0m 34ms/step - binary_accuracy: 0.9533 - loss: 0.1275 - val_binary_accuracy: 0.9456 - val_loss: 0.1540\n",
      "Epoch 11/20\n",
      "\u001b[1m1763/1763\u001b[0m \u001b[32m━━━━━━━━━━━━━━━━━━━━\u001b[0m\u001b[37m\u001b[0m \u001b[1m56s\u001b[0m 32ms/step - binary_accuracy: 0.9534 - loss: 0.1274 - val_binary_accuracy: 0.9451 - val_loss: 0.1548\n",
      "Epoch 12/20\n",
      "\u001b[1m1763/1763\u001b[0m \u001b[32m━━━━━━━━━━━━━━━━━━━━\u001b[0m\u001b[37m\u001b[0m \u001b[1m56s\u001b[0m 32ms/step - binary_accuracy: 0.9545 - loss: 0.1249 - val_binary_accuracy: 0.9453 - val_loss: 0.1551\n",
      "Epoch 13/20\n",
      "\u001b[1m1763/1763\u001b[0m \u001b[32m━━━━━━━━━━━━━━━━━━━━\u001b[0m\u001b[37m\u001b[0m \u001b[1m53s\u001b[0m 30ms/step - binary_accuracy: 0.9557 - loss: 0.1223 - val_binary_accuracy: 0.9444 - val_loss: 0.1574\n",
      "Epoch 14/20\n",
      "\u001b[1m1763/1763\u001b[0m \u001b[32m━━━━━━━━━━━━━━━━━━━━\u001b[0m\u001b[37m\u001b[0m \u001b[1m51s\u001b[0m 29ms/step - binary_accuracy: 0.9565 - loss: 0.1206 - val_binary_accuracy: 0.9449 - val_loss: 0.1582\n",
      "Epoch 15/20\n",
      "\u001b[1m1763/1763\u001b[0m \u001b[32m━━━━━━━━━━━━━━━━━━━━\u001b[0m\u001b[37m\u001b[0m \u001b[1m48s\u001b[0m 27ms/step - binary_accuracy: 0.9578 - loss: 0.1181 - val_binary_accuracy: 0.9438 - val_loss: 0.1594\n",
      "Epoch 16/20\n",
      "\u001b[1m1763/1763\u001b[0m \u001b[32m━━━━━━━━━━━━━━━━━━━━\u001b[0m\u001b[37m\u001b[0m \u001b[1m49s\u001b[0m 28ms/step - binary_accuracy: 0.9585 - loss: 0.1164 - val_binary_accuracy: 0.9444 - val_loss: 0.1595\n",
      "Epoch 17/20\n",
      "\u001b[1m1763/1763\u001b[0m \u001b[32m━━━━━━━━━━━━━━━━━━━━\u001b[0m\u001b[37m\u001b[0m \u001b[1m46s\u001b[0m 26ms/step - binary_accuracy: 0.9602 - loss: 0.1125 - val_binary_accuracy: 0.9439 - val_loss: 0.1625\n",
      "Epoch 18/20\n",
      "\u001b[1m1763/1763\u001b[0m \u001b[32m━━━━━━━━━━━━━━━━━━━━\u001b[0m\u001b[37m\u001b[0m \u001b[1m48s\u001b[0m 27ms/step - binary_accuracy: 0.9611 - loss: 0.1114 - val_binary_accuracy: 0.9423 - val_loss: 0.1661\n",
      "Epoch 19/20\n",
      "\u001b[1m1763/1763\u001b[0m \u001b[32m━━━━━━━━━━━━━━━━━━━━\u001b[0m\u001b[37m\u001b[0m \u001b[1m47s\u001b[0m 26ms/step - binary_accuracy: 0.9625 - loss: 0.1095 - val_binary_accuracy: 0.9437 - val_loss: 0.1673\n",
      "Epoch 20/20\n",
      "\u001b[1m1763/1763\u001b[0m \u001b[32m━━━━━━━━━━━━━━━━━━━━\u001b[0m\u001b[37m\u001b[0m \u001b[1m43s\u001b[0m 25ms/step - binary_accuracy: 0.9634 - loss: 0.1077 - val_binary_accuracy: 0.9413 - val_loss: 0.1690\n"
     ]
    },
    {
     "data": {
      "text/plain": [
       "dict_keys(['binary_accuracy', 'loss', 'val_binary_accuracy', 'val_loss'])"
      ]
     },
     "execution_count": 16,
     "metadata": {},
     "output_type": "execute_result"
    }
   ],
   "source": [
    "model.compile(optimizer=optimizers.RMSprop(learning_rate =0.001),\n",
    "              loss=losses.binary_crossentropy,\n",
    "              metrics=[metrics.binary_accuracy])\n",
    "\n",
    "history = model.fit(x_train,\n",
    "                    y_train,\n",
    "                    epochs=20,\n",
    "                    batch_size=512,\n",
    "                    validation_data=(x_val, y_val))\n",
    "\n",
    "history_dict = history.history\n",
    "history_dict.keys()"
   ]
  },
  {
   "cell_type": "code",
   "execution_count": 17,
   "metadata": {
    "execution": {
     "iopub.execute_input": "2025-10-29T22:57:04.094472Z",
     "iopub.status.busy": "2025-10-29T22:57:04.094248Z",
     "iopub.status.idle": "2025-10-29T22:57:04.325260Z",
     "shell.execute_reply": "2025-10-29T22:57:04.324415Z",
     "shell.execute_reply.started": "2025-10-29T22:57:04.094455Z"
    },
    "id": "YhZ6CSmsKbJ-",
    "trusted": true
   },
   "outputs": [
    {
     "data": {
      "image/png": "[encoded data removed]",
      "text/plain": [
       "<Figure size 640x480 with 1 Axes>"
      ]
     },
     "metadata": {},
     "output_type": "display_data"
    }
   ],
   "source": [
    "acc = history.history['binary_accuracy']\n",
    "val_acc = history.history['val_binary_accuracy']\n",
    "loss = history.history['loss']\n",
    "val_loss = history.history['val_loss']\n",
    "\n",
    "epochs = range(1, len(acc) + 1)\n",
    "\n",
    "# \"bo\" is for \"blue dot\"\n",
    "plt.plot(epochs, loss, 'bo', label='Training loss')\n",
    "# b is for \"solid blue line\"\n",
    "plt.plot(epochs, val_loss, 'b', label='Validation loss')\n",
    "plt.title('Training and validation loss')\n",
    "plt.xlabel('Epochs')\n",
    "plt.ylabel('Loss')\n",
    "plt.legend()\n",
    "\n",
    "plt.show()"
   ]
  },
  {
   "cell_type": "code",
   "execution_count": null,
   "metadata": {
    "trusted": true
   },
   "outputs": [],
   "source": []
  }
 ],
 "metadata": {
  "accelerator": "GPU",
  "colab": {
   "gpuType": "T4",
   "provenance": []
  },
  "kaggle": {
   "accelerator": "gpu",
   "dataSources": [
    {
     "databundleVersionId": 1375107,
     "sourceId": 12500,
     "sourceType": "competition"
    }
   ],
   "dockerImageVersionId": 31154,
   "isGpuEnabled": true,
   "isInternetEnabled": true,
   "language": "python",
   "sourceType": "notebook"
  },
  "kernelspec": {
   "display_name": "Python 3",
   "language": "python",
   "name": "python3"
  },
  "language_info": {
   "codemirror_mode": {
    "name": "ipython",
    "version": 3
   },
   "file_extension": ".py",
   "mimetype": "text/x-python",
   "name": "python",
   "nbconvert_exporter": "python",
   "pygments_lexer": "ipython3",
   "version": "3.11.13"
  }
 },
 "nbformat": 4,
 "nbformat_minor": 4
}
